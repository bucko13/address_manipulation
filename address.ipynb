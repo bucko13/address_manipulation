{
 "cells": [
  {
   "cell_type": "code",
   "execution_count": 371,
   "metadata": {},
   "outputs": [],
   "source": [
    "import hashlib\n",
    "from bitcoin import base58"
   ]
  },
  {
   "cell_type": "markdown",
   "metadata": {},
   "source": [
    "# Bitcoin address manipulation  - \n",
    "## Why you should check every character in an address when signing a transaction.\n",
    "\n",
    "**tl;dr**: Generating a valid bitcoin address that shares most of the characters with another address is not difficult if you don't care about having the private key.\n",
    "\n",
    "At it's most difficult, you can generate a different valid address by changing any 6 non-sequential characters in 10's of hours using this notebook and a standard laptop. If you fix the last 4 characters and up to the first 25 charaters, it it significantly easier (~2-3min to generate a valid malicious address). Fixing the final 6 characters is equivalent to the most difficult case."
   ]
  },
  {
   "cell_type": "markdown",
   "metadata": {},
   "source": [
    "**NOTE:** For this example, I will be using this address: `1HU1LDBXUg73f2ro2e2dB3XY8cFoYLFgZZ`, it was randomly grabbed from a\n",
    "block explorer, apologies if it is yours."
   ]
  },
  {
   "cell_type": "markdown",
   "metadata": {},
   "source": [
    "## Base58 Basics\n",
    "\n",
    "Before I explain address serialization, I must first explain base58, and give some examples of converting between bases.\n",
    "\n",
    "base58 is a base of 58, as opposed to decimal (base 10), hexidecimal (base16), binary (base 2).\n",
    "\n",
    "There are 58 characters used to represent data that is base58 encoded\n",
    "(`123456789ABCDEFGHJKLMNPQRSTUVWXYZabcdefghijkmnopqrstuvwxyz`)\n",
    "\n",
    "> In contrast to Base64, the digits of the encoding do not line up well with byte boundaries of the original data. For this reason, the method is well-suited to encode large integers, but not designed to encode longer portions of binary data.\n",
    "\n",
    "Because 58 is not a power of two, the characters in base58 don't correspond to a fixed number of bytes.\n",
    "Decimal has the same problem, one byte has 256 values, but that can require 1, 2, or 3 decimal characters.\n",
    "\n",
    "Because of this, when converting a number to base58 from any other standard base, I don't think you can know what the least significant digits will be as they are dependent on all the digits in the input. I think this is true, but couldn't find a reference.\n",
    "\n",
    "The most significant digits, however, are not dependendent on all the digits, only the most significant ones."
   ]
  },
  {
   "cell_type": "markdown",
   "metadata": {},
   "source": [
    "An example might help explain this:"
   ]
  },
  {
   "cell_type": "code",
   "execution_count": 372,
   "metadata": {},
   "outputs": [],
   "source": [
    "a_big_number = 1234567890"
   ]
  },
  {
   "cell_type": "code",
   "execution_count": 373,
   "metadata": {},
   "outputs": [
    {
     "name": "stdout",
     "output_type": "stream",
     "text": [
      "Decimal:  1234567890  Length:  10\n",
      "Hexidecimal:  499602d2  Length:  8\n",
      "Bytes: b'I\\x96\\x02\\xd2'  Length:  4\n",
      "base58:  2t6V2H  Length:  6\n"
     ]
    }
   ],
   "source": [
    "print(\"Decimal: \", a_big_number, \" Length: \", len(str(a_big_number)))\n",
    "a_big_hex_number = str(hex(a_big_number))[2:]\n",
    "print(\"Hexidecimal: \", a_big_hex_number, \" Length: \", len(a_big_hex_number))\n",
    "a_big_byte_number = a_big_number.to_bytes(4,byteorder='big')\n",
    "print(\"Bytes:\", a_big_byte_number, \" Length: \", len(a_big_byte_number))\n",
    "a_big_base58_number = base58.encode(a_big_number.to_bytes(4,byteorder='big'))\n",
    "print(\"base58: \", a_big_base58_number, \" Length: \", len(a_big_base58_number))"
   ]
  },
  {
   "cell_type": "code",
   "execution_count": 374,
   "metadata": {},
   "outputs": [
    {
     "name": "stdout",
     "output_type": "stream",
     "text": [
      "Decimal:  1234567891  Length:  10\n",
      "Hexidecimal:  499602d3  Length:  8\n",
      "Bytes: b'I\\x96\\x02\\xd3'  Length:  4\n",
      "base58:  2t6V2J  Length:  6\n"
     ]
    }
   ],
   "source": [
    "a_big_number = 1234567891\n",
    "print(\"Decimal: \", a_big_number, \" Length: \", len(str(a_big_number)))\n",
    "a_big_hex_number = str(hex(a_big_number))[2:]\n",
    "print(\"Hexidecimal: \", a_big_hex_number, \" Length: \", len(a_big_hex_number))\n",
    "a_big_byte_number = a_big_number.to_bytes(4,byteorder='big')\n",
    "print(\"Bytes:\", a_big_byte_number, \" Length: \", len(a_big_byte_number))\n",
    "a_big_base58_number = base58.encode(a_big_number.to_bytes(4,byteorder='big'))\n",
    "print(\"base58: \", a_big_base58_number, \" Length: \", len(a_big_base58_number))"
   ]
  },
  {
   "cell_type": "code",
   "execution_count": 375,
   "metadata": {},
   "outputs": [
    {
     "name": "stdout",
     "output_type": "stream",
     "text": [
      "Decimal:  1334567890  Length:  10\n",
      "Hexidecimal:  4f8be3d2  Length:  8\n",
      "Bytes: b'O\\x8b\\xe3\\xd2'  Length:  4\n",
      "base58:  32w1YD  Length:  6\n"
     ]
    }
   ],
   "source": [
    "a_big_number = 1334567890\n",
    "print(\"Decimal: \", a_big_number, \" Length: \", len(str(a_big_number)))\n",
    "a_big_hex_number = str(hex(a_big_number))[2:]\n",
    "print(\"Hexidecimal: \", a_big_hex_number, \" Length: \", len(a_big_hex_number))\n",
    "a_big_byte_number = a_big_number.to_bytes(4,byteorder='big')\n",
    "print(\"Bytes:\", a_big_byte_number, \" Length: \", len(a_big_byte_number))\n",
    "a_big_base58_number = base58.encode(a_big_number.to_bytes(4,byteorder='big'))\n",
    "print(\"base58: \", a_big_base58_number, \" Length: \", len(a_big_base58_number))"
   ]
  },
  {
   "cell_type": "markdown",
   "metadata": {},
   "source": [
    "Notice that when we change the least significant digit, only the least significant digit changes for the other bases. But if we change a highly significant digit, all the other digits change in the other bases. This is because one decimal digit doesn't map cleanly to a fixed number of digits in any of the other bases. Since bytes and hex do map cleanly, you can change a highly significant digit and not affect the less significant digits in the other base"
   ]
  },
  {
   "cell_type": "code",
   "execution_count": 376,
   "metadata": {},
   "outputs": [
    {
     "name": "stdout",
     "output_type": "stream",
     "text": [
      "b'O\\x8b\\xe3\\xd2'\n",
      "b'_\\x8b\\xe3\\xd2'\n"
     ]
    }
   ],
   "source": [
    "hex_number = \"4f8be3d2\"\n",
    "print(bytes.fromhex(hex_number))\n",
    "hex_number_2 = \"5f8be3d2\"\n",
    "print(bytes.fromhex(hex_number_2))"
   ]
  },
  {
   "cell_type": "markdown",
   "metadata": {},
   "source": [
    "## Bitcoin Addresses\n",
    "Now let's talk about bitcoin addresses. A bitcoin address has three components: \n",
    "- The version byte\n",
    "- The data\n",
    "- The Checksum"
   ]
  },
  {
   "cell_type": "markdown",
   "metadata": {},
   "source": [
    "### The Version Byte\n",
    "> 0x00 for P2PKH addresses on the main Bitcoin network (mainnet)  \n",
    "> 0x6f for P2PKH addresses on the Bitcoin testing network (testnet)  \n",
    "> 0x05 for P2SH addresses on mainnet  \n",
    "> 0xc4 for P2SH addresses on testnet  \n",
    "\n"
   ]
  },
  {
   "cell_type": "markdown",
   "metadata": {},
   "source": [
    "### The Data\n",
    "For a P2PKH address, the data portion of an address is the hash (actually hashed twice: RIPEMD(SHA256(pubkey))) of a public key"
   ]
  },
  {
   "cell_type": "markdown",
   "metadata": {},
   "source": [
    "### The Checksum\n",
    "Bitcoin Addresses are actually Base58Check encoded, not simply base58. In Base58Check, you first double-hash the version byte and data with sha256. You take the first 4 bytes of the resulting hash and append it to the data, and then you convert the full (version byte + data + checksum) byte array into base58."
   ]
  },
  {
   "cell_type": "markdown",
   "metadata": {},
   "source": [
    "### A Note on Checksum collisions\n",
    "\n",
    "By only taking the first 4 bytes of the hash, the checksum field is far from immune to collisions. SHA256 properly generates any even distribution of outputs. 4 bytes can only encode $256^4$ values (4,294,967,296), so if you want to find a hash collision, you onyl need to try an expected 4.3 Billion values per collision. This is important for this discussion, but it isn't the end of the story.\n",
    "\n",
    "You might think at this point, \"Cool, so if I want to create a malicious bitcoin address, I'll just decode it to bytes, and start changing bytes until I find a checksum collision, and I'm set!\" But you'd be wrong. If you skimmed the base58 discussion above, maybe take a closer read. If you change some bytes in the middle of an address, when you go to encode it in base58, all of the lower significant digits are modified in base58.\n",
    "\n",
    "So now you might think: \"Shit, so I have to modify the data, find a checksum collision, and then hope it encodes to the same last 4 digits? I'm screwed, bitcoin addresses are hard.\"\n",
    "\n",
    "It's true, bitcoin addresses are confusing, but no, it's not that difficult to create a malicious address, and that's because while the checksum has to be *valid*, it doesn't have to be the *same* checksum of the original address."
   ]
  },
  {
   "cell_type": "markdown",
   "metadata": {},
   "source": [
    "### Generating a Malicious address.\n",
    "\n",
    "Let's start simple. Let's say you want a valid bitcoin address with the same $A$ number of characters at the beginning, and the last digit to be the same. Let's assume that the resulting addresses will have an even distibution of final characters, since we're going to be changing a bunch of digits (some in the data, and all of the checksum).\n",
    "\n",
    "If it's an even distribution, for each value we try, we have a 1-in-58 probability that it will be the correct value.\n",
    "Let's give it a try!\n",
    "\n",
    "We'll try every value in one byte, that's 256 values, so we should expect to see 256/58 = 4.4 matches"
   ]
  },
  {
   "cell_type": "code",
   "execution_count": 377,
   "metadata": {},
   "outputs": [],
   "source": [
    "def cycle_through_one_byte(ver, data, digit, match):\n",
    "    dataarray = bytearray(data)\n",
    "    for i in range(256):\n",
    "        # Change a byte\n",
    "        dataarray[digit] = i\n",
    "        # Compute the double sha256 hash and take the first 4 bytes\n",
    "        check1 = bitcoin.core.Hash(ver + dataarray)[:4]\n",
    "        # convert to base58\n",
    "        addr = base58.encode(ver+dataarray+check1)\n",
    "        # CHeck the last digit\n",
    "        if (addr[-1:] == match):\n",
    "            print('found: ', addr)"
   ]
  },
  {
   "cell_type": "code",
   "execution_count": 378,
   "metadata": {},
   "outputs": [],
   "source": [
    "original_address ='1HU1LDBXUg73f2ro2e2dB3XY8cFoYLFgZZ'\n",
    "k = base58.decode(original_address)\n",
    "verbyte, data, check0 = k[0:1], k[1:-4], k[-4:]"
   ]
  },
  {
   "cell_type": "code",
   "execution_count": 379,
   "metadata": {},
   "outputs": [
    {
     "name": "stdout",
     "output_type": "stream",
     "text": [
      "found:  1HU1LDBXUg73f2ro2e2dB3XY8cFoYLFgZZ\n",
      "found:  1HU1LDBXUg73f2ro2e2dB3XY8cFxYGxT7Z\n",
      "found:  1HU1LDBXUg73f2ro2e2dB3XY8cFyeGfzQZ\n",
      "found:  1HU1LDBXUg73f2ro2e2dB3XY8cG438ERVZ\n"
     ]
    }
   ],
   "source": [
    "cycle_through_one_byte(verbyte, data, 19, 'Z')"
   ]
  },
  {
   "cell_type": "code",
   "execution_count": 380,
   "metadata": {},
   "outputs": [
    {
     "name": "stdout",
     "output_type": "stream",
     "text": [
      "found:  1HU1LDBXUg73f2ro2e2dB3XY8cFkFSmCQ1\n",
      "found:  1HU1LDBXUg73f2ro2e2dB3XY8cFwPyAZ91\n",
      "found:  1HU1LDBXUg73f2ro2e2dB3XY8cFysN4xF1\n",
      "found:  1HU1LDBXUg73f2ro2e2dB3XY8cG4pxmyY1\n",
      "found:  1HU1LDBXUg73f2ro2e2dB3XY8cGB5Rhk51\n"
     ]
    }
   ],
   "source": [
    "cycle_through_one_byte(verbyte, data, 19,  '1')"
   ]
  },
  {
   "cell_type": "code",
   "execution_count": 381,
   "metadata": {},
   "outputs": [
    {
     "name": "stdout",
     "output_type": "stream",
     "text": [
      "found:  1HU1LDBXUg73f2ro2e2dB3XY8cFnB2tYx2\n",
      "found:  1HU1LDBXUg73f2ro2e2dB3XY8cFqTayv52\n",
      "found:  1HU1LDBXUg73f2ro2e2dB3XY8cFzcYYU22\n",
      "found:  1HU1LDBXUg73f2ro2e2dB3XY8cG2q3M6u2\n",
      "found:  1HU1LDBXUg73f2ro2e2dB3XY8cG4RpLuB2\n",
      "CPU times: user 5.46 ms, sys: 113 µs, total: 5.57 ms\n",
      "Wall time: 5.47 ms\n"
     ]
    }
   ],
   "source": [
    "%time cycle_through_one_byte(verbyte, data, 19, '2')"
   ]
  },
  {
   "cell_type": "markdown",
   "metadata": {},
   "source": [
    "Looks pretty solid. I think this is dependent on which digit you're changing, though I don't know how to generalize at this time. For example, if you change the 10th byte instead of the 19th:"
   ]
  },
  {
   "cell_type": "code",
   "execution_count": 382,
   "metadata": {},
   "outputs": [
    {
     "name": "stdout",
     "output_type": "stream",
     "text": [
      "found:  1HU1LDBXUg73f2rS5EwnM2GQLJizdsKtzZ\n",
      "found:  1HU1LDBXUg73f2rZo25fuygJ3nYycfXiyZ\n",
      "found:  1HU1LDBXUg73f2ro2e2dB3XY8cFoYLFgZZ\n",
      "found:  1HU1LDBXUg73f2rqEaMT3tW5UkCwaKM2oZ\n",
      "found:  1HU1LDBXUg73f2rw7jtKPUSBjn5Jr7ykzZ\n",
      "found:  1HU1LDBXUg73f2rzReNZCjtzkz11r3GvJZ\n",
      "found:  1HU1LDBXUg73f2rzny6MrDPkefzYDh1k1Z\n",
      "found:  1HU1LDBXUg73f2s73TM2qGpcoPrRqdNtSZ\n",
      "found:  1HU1LDBXUg73f2sKYRrNoPgM6qaDAqb3MZ\n",
      "found:  1HU1LDBXUg73f2sf2Y413WxTLP8vqTGk6Z\n"
     ]
    }
   ],
   "source": [
    "cycle_through_one_byte(verbyte, data, 10, 'Z')"
   ]
  },
  {
   "cell_type": "code",
   "execution_count": 383,
   "metadata": {},
   "outputs": [
    {
     "name": "stdout",
     "output_type": "stream",
     "text": [
      "found:  1HU1LDBXUg73f2sgs9f2GtSEnq6YQ4sgH1\n"
     ]
    }
   ],
   "source": [
    "cycle_through_one_byte(verbyte, data, 10, '1')"
   ]
  },
  {
   "cell_type": "markdown",
   "metadata": {},
   "source": [
    "Though maybe that's just statistics being fun.\n",
    "\n",
    "Let's move on to 2 digit matches. With 2 digits we have $58^2$ so 3,364 options, But if we cycle through all values in 2 bytes, that's $256^2$ or 65,536. SO we should expect to see, 19.5 matches"
   ]
  },
  {
   "cell_type": "code",
   "execution_count": 384,
   "metadata": {},
   "outputs": [],
   "source": [
    "def cycle_through_two_bytes(ver, data, match):\n",
    "    total_matches = 0\n",
    "    dataarray = bytearray(data)\n",
    "    for i in range(256):\n",
    "        # Change a byte\n",
    "        dataarray[19] = i\n",
    "        for j in range(256):\n",
    "            dataarray[18] = j\n",
    "            # Compute the double sha256 hash and take the first 4 bytes\n",
    "            check1 = bitcoin.core.Hash(ver + dataarray)[:4]\n",
    "            # convert to base58\n",
    "            addr = base58.encode(ver+dataarray+check1)\n",
    "            # CHeck the last digit\n",
    "            if (addr[-2:] == match):\n",
    "                total_matches+=1\n",
    "                print('found: ', addr)\n",
    "    print(\"Total Matches:\", total_matches)"
   ]
  },
  {
   "cell_type": "code",
   "execution_count": 385,
   "metadata": {},
   "outputs": [
    {
     "name": "stdout",
     "output_type": "stream",
     "text": [
      "found:  1HU1LDBXUg73f2ro2e2dB3XY8bhL6FNdZZ\n",
      "found:  1HU1LDBXUg73f2ro2e2dB3XY8b5VnZNvZZ\n",
      "found:  1HU1LDBXUg73f2ro2e2dB3XY8cY9otddZZ\n",
      "found:  1HU1LDBXUg73f2ro2e2dB3XY8cQhSD81ZZ\n",
      "found:  1HU1LDBXUg73f2ro2e2dB3XY8aq5LtioZZ\n",
      "found:  1HU1LDBXUg73f2ro2e2dB3XY8ay3kBjzZZ\n",
      "found:  1HU1LDBXUg73f2ro2e2dB3XY8an97xSxZZ\n",
      "found:  1HU1LDBXUg73f2ro2e2dB3XY8cFoYLFgZZ\n",
      "found:  1HU1LDBXUg73f2ro2e2dB3XY8cXKEfctZZ\n",
      "found:  1HU1LDBXUg73f2ro2e2dB3XY8bd2iMNCZZ\n",
      "found:  1HU1LDBXUg73f2ro2e2dB3XY8b99mNuQZZ\n",
      "found:  1HU1LDBXUg73f2ro2e2dB3XY8bt1pxGTZZ\n",
      "found:  1HU1LDBXUg73f2ro2e2dB3XY8c7zDqXXZZ\n",
      "found:  1HU1LDBXUg73f2ro2e2dB3XY8cBVPbUQZZ\n",
      "found:  1HU1LDBXUg73f2ro2e2dB3XY8b1nWCCgZZ\n",
      "found:  1HU1LDBXUg73f2ro2e2dB3XY8cSTME4jZZ\n",
      "found:  1HU1LDBXUg73f2ro2e2dB3XY8bp7Nc5dZZ\n",
      "found:  1HU1LDBXUg73f2ro2e2dB3XY8c549A7UZZ\n",
      "found:  1HU1LDBXUg73f2ro2e2dB3XY8bxasQpoZZ\n",
      "found:  1HU1LDBXUg73f2ro2e2dB3XY8bRE69KdZZ\n",
      "found:  1HU1LDBXUg73f2ro2e2dB3XY8bVDxYCzZZ\n",
      "found:  1HU1LDBXUg73f2ro2e2dB3XY8agwJoHTZZ\n",
      "found:  1HU1LDBXUg73f2ro2e2dB3XY8aZWPiFsZZ\n",
      "found:  1HU1LDBXUg73f2ro2e2dB3XY8bdmu7CMZZ\n",
      "found:  1HU1LDBXUg73f2ro2e2dB3XY8bTr4n3aZZ\n",
      "found:  1HU1LDBXUg73f2ro2e2dB3XY8bsknhJ6ZZ\n",
      "found:  1HU1LDBXUg73f2ro2e2dB3XY8b5xBt2fZZ\n",
      "found:  1HU1LDBXUg73f2ro2e2dB3XY8agZgnthZZ\n",
      "Total Matches: 28\n"
     ]
    }
   ],
   "source": [
    "cycle_through_two_bytes(verbyte, data, 'ZZ')"
   ]
  },
  {
   "cell_type": "code",
   "execution_count": 386,
   "metadata": {},
   "outputs": [
    {
     "name": "stdout",
     "output_type": "stream",
     "text": [
      "found:  1HU1LDBXUg73f2ro2e2dB3XY8ae7QdPKaZ\n",
      "found:  1HU1LDBXUg73f2ro2e2dB3XY8bdPxVDTaZ\n",
      "found:  1HU1LDBXUg73f2ro2e2dB3XY8bJzuAiZaZ\n",
      "found:  1HU1LDBXUg73f2ro2e2dB3XY8b99L4dDaZ\n",
      "found:  1HU1LDBXUg73f2ro2e2dB3XY8bb3swQDaZ\n",
      "found:  1HU1LDBXUg73f2ro2e2dB3XY8bm3A3i8aZ\n",
      "found:  1HU1LDBXUg73f2ro2e2dB3XY8bSekXz2aZ\n",
      "found:  1HU1LDBXUg73f2ro2e2dB3XY8cAVywr3aZ\n",
      "found:  1HU1LDBXUg73f2ro2e2dB3XY8bLif2joaZ\n",
      "found:  1HU1LDBXUg73f2ro2e2dB3XY8bAmk3KXaZ\n",
      "found:  1HU1LDBXUg73f2ro2e2dB3XY8beCoj1JaZ\n",
      "found:  1HU1LDBXUg73f2ro2e2dB3XY8aZy1QL2aZ\n",
      "found:  1HU1LDBXUg73f2ro2e2dB3XY8bwAkqDYaZ\n",
      "found:  1HU1LDBXUg73f2ro2e2dB3XY8bmiDSWGaZ\n",
      "found:  1HU1LDBXUg73f2ro2e2dB3XY8c1CFZ9waZ\n",
      "found:  1HU1LDBXUg73f2ro2e2dB3XY8bhH2ykPaZ\n",
      "found:  1HU1LDBXUg73f2ro2e2dB3XY8ayy1yF9aZ\n",
      "found:  1HU1LDBXUg73f2ro2e2dB3XY8bPtonGxaZ\n",
      "Total Matches: 18\n"
     ]
    }
   ],
   "source": [
    "cycle_through_two_bytes(verbyte, data, 'aZ')"
   ]
  },
  {
   "cell_type": "code",
   "execution_count": 387,
   "metadata": {},
   "outputs": [
    {
     "name": "stdout",
     "output_type": "stream",
     "text": [
      "found:  1HU1LDBXUg73f2ro2e2dB3XY8cQfuTxL11\n",
      "found:  1HU1LDBXUg73f2ro2e2dB3XY8bvp6pgm11\n",
      "found:  1HU1LDBXUg73f2ro2e2dB3XY8bkN6vHT11\n",
      "found:  1HU1LDBXUg73f2ro2e2dB3XY8az3nv1o11\n",
      "found:  1HU1LDBXUg73f2ro2e2dB3XY8bMVM9AF11\n",
      "found:  1HU1LDBXUg73f2ro2e2dB3XY8c1rC2wg11\n",
      "found:  1HU1LDBXUg73f2ro2e2dB3XY8btWHoTC11\n",
      "found:  1HU1LDBXUg73f2ro2e2dB3XY8cWrnG9d11\n",
      "found:  1HU1LDBXUg73f2ro2e2dB3XY8bR8RfEb11\n",
      "found:  1HU1LDBXUg73f2ro2e2dB3XY8bEgqkAu11\n",
      "found:  1HU1LDBXUg73f2ro2e2dB3XY8cht15Xm11\n",
      "found:  1HU1LDBXUg73f2ro2e2dB3XY8cGVVvF811\n",
      "found:  1HU1LDBXUg73f2ro2e2dB3XY8agtFyKQ11\n",
      "found:  1HU1LDBXUg73f2ro2e2dB3XY8bjfNS2s11\n",
      "found:  1HU1LDBXUg73f2ro2e2dB3XY8bPkcyca11\n",
      "found:  1HU1LDBXUg73f2ro2e2dB3XY8bGniJ6M11\n",
      "found:  1HU1LDBXUg73f2ro2e2dB3XY8cM4y1rG11\n",
      "found:  1HU1LDBXUg73f2ro2e2dB3XY8biGTxzX11\n",
      "found:  1HU1LDBXUg73f2ro2e2dB3XY8akWcvRn11\n",
      "found:  1HU1LDBXUg73f2ro2e2dB3XY8cXd3wQH11\n",
      "Total Matches: 20\n",
      "CPU times: user 1.16 s, sys: 10.3 ms, total: 1.17 s\n",
      "Wall time: 1.17 s\n"
     ]
    }
   ],
   "source": [
    "%time cycle_through_two_bytes(verbyte, data, '11')"
   ]
  },
  {
   "cell_type": "markdown",
   "metadata": {},
   "source": [
    "Pretty solid so far. Notice that I'm changing only the least significant byte in the data section. This means the whole first section of address is unchanged.\n",
    "\n",
    "Let's move on to 3 digits.\n",
    "\n",
    "With 3 digits we have $58^3$ so 195,112 options, But if we cycle through all values in 3 bytes, that's $256^3$ or 16,777,216. SO we should expect to see, 86 matches"
   ]
  },
  {
   "cell_type": "code",
   "execution_count": 388,
   "metadata": {},
   "outputs": [],
   "source": [
    "def cycle_through_three_bytes(ver, data, match):\n",
    "    total_matches = 0\n",
    "    dataarray = bytearray(data)\n",
    "    for i in range(256):\n",
    "        # Change a byte\n",
    "        dataarray[19] = i\n",
    "        for j in range(256):\n",
    "            dataarray[18] = j\n",
    "            for k in range(256):\n",
    "                dataarray[17] = k\n",
    "                # Compute the double sha256 hash and take the first 4 bytes\n",
    "                check1 = bitcoin.core.Hash(ver + dataarray)[:4]\n",
    "                # convert to base58\n",
    "                addr = base58.encode(ver+dataarray+check1)\n",
    "                # CHeck the last digit\n",
    "                if (addr[-3:] == match):\n",
    "                    total_matches+=1\n",
    "                    #print('found: ', addr)\n",
    "    print(\"Total Matches:\", total_matches)"
   ]
  },
  {
   "cell_type": "code",
   "execution_count": 389,
   "metadata": {},
   "outputs": [
    {
     "name": "stdout",
     "output_type": "stream",
     "text": [
      "1HU1LDBXUg73f2ro2e2dB3XY8cFoYLFgZZ\n"
     ]
    }
   ],
   "source": [
    "print(original_address)"
   ]
  },
  {
   "cell_type": "code",
   "execution_count": 390,
   "metadata": {},
   "outputs": [
    {
     "name": "stdout",
     "output_type": "stream",
     "text": [
      "Total Matches: 79\n",
      "CPU times: user 4min 20s, sys: 377 ms, total: 4min 21s\n",
      "Wall time: 4min 21s\n"
     ]
    }
   ],
   "source": [
    "%time cycle_through_three_bytes(verbyte, data, 'gZZ')"
   ]
  },
  {
   "cell_type": "markdown",
   "metadata": {},
   "source": [
    "Along with agreeing with our statistics so far, notice that the execution time has grown linearly with number of operations. 5ms for one byte, 1.2s for two bytes (256x the ops of one byte), 261s for three bytes (256x the ops of two bytes)"
   ]
  },
  {
   "cell_type": "markdown",
   "metadata": {},
   "source": [
    "Let's move on to 4 digits. Which for some reason is a standard, \"check the first and last 4\". This is probably due to misunderstanding the checksum field. 4 base58 digits can only encode 3 bytes worth of data $(58^4 < 256^3)$, and as mentioned earlier, you can't decode the least significant digits only, you need the full value to decode.\n",
    "\n",
    "With 4 digits we have $58^4$ so 11,316,496 options, But if we can cycle through all values in still only 3 bytes because that's $256^3$ or 16,777,216. So we should expect to see, 1.5 matches.\n",
    "\n",
    "We can iterate another byte a 4 times to boost the expect matches to 6 while expecting ~20min execution time."
   ]
  },
  {
   "cell_type": "code",
   "execution_count": 391,
   "metadata": {},
   "outputs": [],
   "source": [
    "def cycle_through_four_bytes(ver, data, match):\n",
    "    total_matches = 0\n",
    "    dataarray = bytearray(data)\n",
    "    for i in range(4):\n",
    "        # Change a byte\n",
    "        dataarray[19] = i\n",
    "        for j in range(256):\n",
    "            dataarray[18] = j\n",
    "            for k in range(256):\n",
    "                dataarray[17] = k\n",
    "                for l in range(256):\n",
    "                    dataarray[16] = l\n",
    "                    # Compute the double sha256 hash and take the first 4 bytes\n",
    "                    check1 = bitcoin.core.Hash(ver + dataarray)[:4]\n",
    "                    # convert to base58\n",
    "                    addr = base58.encode(ver+dataarray+check1)\n",
    "                    # CHeck the last digit\n",
    "                    if (addr[-4:] == match):\n",
    "                        total_matches+=1\n",
    "                        print('found: ', addr)\n",
    "    print(\"Total Matches:\", total_matches)"
   ]
  },
  {
   "cell_type": "code",
   "execution_count": 359,
   "metadata": {},
   "outputs": [
    {
     "name": "stdout",
     "output_type": "stream",
     "text": [
      "1HU1LDBXUg73f2ro2e2dB3XY8cFoYLFgZZ\n"
     ]
    }
   ],
   "source": [
    "print(original_address)"
   ]
  },
  {
   "cell_type": "code",
   "execution_count": 360,
   "metadata": {},
   "outputs": [
    {
     "name": "stdout",
     "output_type": "stream",
     "text": [
      "found:  1HU1LDBXUg73f2ro2e2dB3YAZkLzhmFgZZ\n",
      "found:  1HU1LDBXUg73f2ro2e2dB3YAsH6C6bFgZZ\n",
      "found:  1HU1LDBXUg73f2ro2e2dB3XeYUj3vkFgZZ\n",
      "found:  1HU1LDBXUg73f2ro2e2dB3Xx2JDVAbFgZZ\n",
      "found:  1HU1LDBXUg73f2ro2e2dB3Y6ZfhPG1FgZZ\n",
      "found:  1HU1LDBXUg73f2ro2e2dB3Y5QbkmDLFgZZ\n",
      "found:  1HU1LDBXUg73f2ro2e2dB3YEXcH33JFgZZ\n",
      "found:  1HU1LDBXUg73f2ro2e2dB3XhYFrPERFgZZ\n",
      "Total Matches: 8\n",
      "CPU times: user 17min 16s, sys: 913 ms, total: 17min 16s\n",
      "Wall time: 17min 17s\n"
     ]
    }
   ],
   "source": [
    "%time cycle_through_four_bytes(verbyte, data, 'FgZZ')"
   ]
  },
  {
   "cell_type": "markdown",
   "metadata": {},
   "source": [
    "Great. So we can create duplicate valid first4...last4 bitcoin addresses at a rate of once every 2 minutes."
   ]
  },
  {
   "cell_type": "markdown",
   "metadata": {},
   "source": [
    "Now what about fixing the last 5 digits? \n",
    "\n",
    "Now we have $58^5$ = 656,356,768, which is 40x more than 3 bytes, but still well less than the full $256^4$. That'll be roughly 3 hours of execution to generate one, we'll leave that as an exercise. "
   ]
  },
  {
   "cell_type": "markdown",
   "metadata": {},
   "source": [
    "And what about 6 or 7 digits?\n",
    "\n",
    "6 digits gives us a 1 in 38,068,692,544 chance to find a valid address. That's interesting because now we're above $256^4$ which is the hash-collision scale. At this point, I think it will be faster to invert this process.\n",
    "\n",
    "Instead of searching for matches to our base58 pattern, let's search through base58 values to find valid addresses.\n",
    "A given base58 string should have a 1-in-4,294,967,296 chance of being valid $(256^4)$.\n",
    "\n",
    "Based on our earlier benchmarks, that should take roughly 20 hours of execution. To get to that number of options, we would need to be able to change 6 digits of the address, and I don't think they need to be contiguous.\n",
    "\n",
    "I'll try this in the future and update."
   ]
  },
  {
   "cell_type": "code",
   "execution_count": null,
   "metadata": {},
   "outputs": [],
   "source": []
  }
 ],
 "metadata": {
  "kernelspec": {
   "display_name": "Python 3",
   "language": "python",
   "name": "python3"
  },
  "language_info": {
   "codemirror_mode": {
    "name": "ipython",
    "version": 3
   },
   "file_extension": ".py",
   "mimetype": "text/x-python",
   "name": "python",
   "nbconvert_exporter": "python",
   "pygments_lexer": "ipython3",
   "version": "3.7.2"
  }
 },
 "nbformat": 4,
 "nbformat_minor": 2
}
